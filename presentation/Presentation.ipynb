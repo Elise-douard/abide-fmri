{
 "cells": [
  {
   "cell_type": "markdown",
   "metadata": {
    "slideshow": {
     "slide_type": "slide"
    }
   },
   "source": [
    "# ABIDE dataset and Machine Learning Cross Validation Methods\n",
    "Emily Chen, Andréanne Proulx, and Mikkel Schöttner"
   ]
  },
  {
   "cell_type": "markdown",
   "metadata": {
    "slideshow": {
     "slide_type": "subslide"
    }
   },
   "source": [
    "## Types of Slides: \n",
    "* `slide`: this cell is the beginning of a new slide\n",
    "* `subslide`: this cell is the beginning of a new subslide; that is to say, a new slide, but that reveal.js will display below the previous one instead of on the right;\n",
    "* `fragment`: this is to split the contents of one slide into pieces; a cell marked as a fragment will create a break inside the slide; it will not show up right away, you will need to press Space one more time to see it.\n",
    "* `skip`: this cell is ignored altogether in reveal mode, it will not appear either in the main view, nor in the speaker view.\n",
    "* `notes`: similarly, this cell is marked to be discarded from the main view, but is meant to appear in the speaker view."
   ]
  },
  {
   "cell_type": "markdown",
   "metadata": {
    "slideshow": {
     "slide_type": "subslide"
    }
   },
   "source": [
    "## Sections\n",
    "1. Who are we? (Educational backgrounds, tools we knew before BHS, what we wanted to learn at BHS) \n",
    "2. What did we learn? (What skills did we learn at BHS)\n",
    "3. What is our project? (Background on dataset, how this project aligned with our goals) \n",
    "4. Plots and results (What we discovered while doing this project, what research still needs to be done) "
   ]
  },
  {
   "cell_type": "markdown",
   "metadata": {
    "slideshow": {
     "slide_type": "slide"
    }
   },
   "source": [
    "![Slide 1](1.png)"
   ]
  },
  {
   "cell_type": "code",
   "execution_count": null,
   "metadata": {},
   "outputs": [],
   "source": []
  }
 ],
 "metadata": {
  "celltoolbar": "Slideshow",
  "kernelspec": {
   "display_name": "Python 3",
   "language": "python",
   "name": "python3"
  },
  "language_info": {
   "codemirror_mode": {
    "name": "ipython",
    "version": 3
   },
   "file_extension": ".py",
   "mimetype": "text/x-python",
   "name": "python",
   "nbconvert_exporter": "python",
   "pygments_lexer": "ipython3",
   "version": "3.7.6"
  }
 },
 "nbformat": 4,
 "nbformat_minor": 4
}
