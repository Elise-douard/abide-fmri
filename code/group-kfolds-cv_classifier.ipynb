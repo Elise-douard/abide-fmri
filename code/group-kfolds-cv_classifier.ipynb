{
 "cells": [
  {
   "cell_type": "markdown",
   "metadata": {},
   "source": [
    "# group k-folds\n",
    "This notebook will implement a k-fold iterator variant on non-overlapping groups."
   ]
  },
  {
   "cell_type": "markdown",
   "metadata": {},
   "source": [
    "**Step 1:** Load the dataset into a `pandas` dataframe to extract all unique `SITE_ID` values. "
   ]
  },
  {
   "cell_type": "code",
   "execution_count": null,
   "metadata": {},
   "outputs": [],
   "source": [
    "#Import modules for this step\n",
    "from nilearn import datasets\n",
    "import pandas as pd\n",
    "import os\n",
    "\n",
    "#Fetch data using nilearn.datasets.fetch\n",
    "abide = datasets.fetch_abide_pcp(data_dir=os.path.join(os.sep,\"path/to/data\"),\n",
    "                                 pipeline=\"cpac\",\n",
    "                                 quality_checked=True)\n",
    "\n",
    "#Load phenotypic data into pandas dataframe\n",
    "abide_pheno = pd.DataFrame(abide.phenotypic)\n",
    "\n",
    "#Create array to hold unique site names\n",
    "#groups = abide_pheno.SITE_ID.unique()\n",
    "\n",
    "groups = []\n",
    "for s in abide_pheno.SITE_ID:\n",
    "    groups.append(s.decode())"
   ]
  },
  {
   "cell_type": "markdown",
   "metadata": {},
   "source": [
    "**Step 2:** Define the dataset split using built-in `scikit-learn` methods. In this case, we are using `sklearn.model_selection.GroupKFold`. "
   ]
  },
  {
   "cell_type": "code",
   "execution_count": null,
   "metadata": {},
   "outputs": [],
   "source": [
    "#Import modules \n",
    "import numpy as np \n",
    "from sklearn.model_selection import GroupKFold\n",
    "import prepare_data\n",
    "import os\n",
    "\n",
    "#Define data and output directories \n",
    "data_dir = os.path.join(os.sep,\"path/to/data\")\n",
    "output_dir = data_dir\n",
    "\n",
    "X, y = prepare_data.prepare_data(data_dir,output_dir)\n",
    "\n",
    "logo = GroupKFold(n_splits=10)\n",
    "logo.get_n_splits(X, y, groups)"
   ]
  },
  {
   "cell_type": "markdown",
   "metadata": {},
   "source": [
    "**Step 3:** Choosing which machine learning classifier to use. We will try four different classifiers in this script. "
   ]
  },
  {
   "cell_type": "markdown",
   "metadata": {},
   "source": [
    "_**Step 3.1:**_ Support Vector Machines (SVM) - `LinearSVC`"
   ]
  },
  {
   "cell_type": "code",
   "execution_count": 3,
   "metadata": {},
   "outputs": [
    {
     "name": "stdout",
     "output_type": "stream",
     "text": [
      "----------------------------------------------------\n",
      "GroupKFold with Linear Support Vector Classification\n",
      "----------------------------------------------------\n",
      "Training model  1\n",
      "Training model  2\n",
      "Training model  3\n",
      "Training model  4\n",
      "Training model  5\n",
      "Training model  6\n",
      "Training model  7\n",
      "Training model  8\n",
      "Training model  9\n",
      "Training model  10\n",
      "Finished training.\n",
      "\n",
      "Accuracy score for model 1   0.6046511627906976\n",
      "Accuracy score for model 2   0.686046511627907\n",
      "Accuracy score for model 3   0.6666666666666666\n",
      "Accuracy score for model 4   0.5822784810126582\n",
      "Accuracy score for model 5   0.72\n",
      "Accuracy score for model 6   0.5277777777777778\n",
      "Accuracy score for model 7   0.676056338028169\n",
      "Accuracy score for model 8   0.6956521739130435\n",
      "Accuracy score for model 9   0.6626506024096386\n",
      "Accuracy score for model 10   0.5232558139534884\n",
      "\n",
      "Average accuracy score for all models:  0.6345035528180046\n",
      "Maximum accuracy score of all models:  0.72\n",
      "Minimum accuracy score of all models:  0.5232558139534884\n"
     ]
    }
   ],
   "source": [
    "from sklearn.svm import LinearSVC\n",
    "import statistics\n",
    "print(\"----------------------------------------------------\")\n",
    "print(\"GroupKFold with Linear Support Vector Classification\")\n",
    "print(\"----------------------------------------------------\")\n",
    "\n",
    "l_svc = LinearSVC(max_iter=10000)\n",
    "\n",
    "accuracy = []\n",
    "count = 0\n",
    "for train_index, test_index in logo.split(X,y,groups): \n",
    "    count += 1\n",
    "    X_train, X_test = X[train_index], X[test_index]\n",
    "    y_train, y_test = y[train_index], y[test_index]\n",
    "    print(\"Training model \",count)\n",
    "    l_svc.fit(X_train,y_train)\n",
    "    acc_score = l_svc.score(X_test, y_test)\n",
    "    accuracy.append(acc_score)\n",
    "\n",
    "print(\"Finished training.\\n\")\n",
    "\n",
    "#Mean accuracy of self.predict(X) with regard to y for each model\n",
    "index = 0\n",
    "for a in accuracy: \n",
    "    index += 1\n",
    "    print(\"Accuracy score for model\", index, \" \", a)\n",
    "\n",
    "#Report the average accuracy for all models \n",
    "print(\"\\nAverage accuracy score for all models: \", statistics.mean(accuracy))\n",
    "print(\"Maximum accuracy score of all models: \", max(accuracy))\n",
    "print(\"Minimum accuracy score of all models: \", min(accuracy))"
   ]
  },
  {
   "cell_type": "markdown",
   "metadata": {},
   "source": [
    "_**Step 3.2:**_ _k_-Nearest Neighbors - `KNeighborsClassifier`"
   ]
  },
  {
   "cell_type": "code",
   "execution_count": 4,
   "metadata": {},
   "outputs": [
    {
     "name": "stdout",
     "output_type": "stream",
     "text": [
      "--------------------------------------------------\n",
      "GroupKFold with K-Nearest Neighbors Classification\n",
      "--------------------------------------------------\n",
      "Training model  1\n",
      "Training model  2\n",
      "Training model  3\n",
      "Training model  4\n",
      "Training model  5\n",
      "Training model  6\n",
      "Training model  7\n",
      "Training model  8\n",
      "Training model  9\n",
      "Training model  10\n",
      "Finished training.\n",
      "\n",
      "Accuracy score for model 1   0.5872093023255814\n",
      "Accuracy score for model 2   0.4883720930232558\n",
      "Accuracy score for model 3   0.48717948717948717\n",
      "Accuracy score for model 4   0.5443037974683544\n",
      "Accuracy score for model 5   0.6266666666666667\n",
      "Accuracy score for model 6   0.5694444444444444\n",
      "Accuracy score for model 7   0.5633802816901409\n",
      "Accuracy score for model 8   0.6666666666666666\n",
      "Accuracy score for model 9   0.4939759036144578\n",
      "Accuracy score for model 10   0.4883720930232558\n",
      "\n",
      "Average accuracy score for all models:  0.5515570736102311\n",
      "Maximum accuracy score of all models:  0.6666666666666666\n",
      "Minimum accuracy score of all models:  0.48717948717948717\n"
     ]
    }
   ],
   "source": [
    "from sklearn.neighbors import KNeighborsClassifier\n",
    "import statistics\n",
    "print(\"--------------------------------------------------\")\n",
    "print(\"GroupKFold with K-Nearest Neighbors Classification\")\n",
    "print(\"--------------------------------------------------\")\n",
    "\n",
    "knn = KNeighborsClassifier()\n",
    "\n",
    "accuracy = []\n",
    "count = 0\n",
    "for train_index, test_index in logo.split(X,y,groups): \n",
    "    count += 1\n",
    "    X_train, X_test = X[train_index], X[test_index]\n",
    "    y_train, y_test = y[train_index], y[test_index]\n",
    "    print(\"Training model \",count)\n",
    "    knn.fit(X_train,y_train)\n",
    "    acc_score = knn.score(X_test, y_test)\n",
    "    accuracy.append(acc_score)\n",
    "\n",
    "print(\"Finished training.\\n\")\n",
    "\n",
    "#Mean accuracy of self.predict(X) with regard to y for each model\n",
    "index = 0\n",
    "for a in accuracy: \n",
    "    index += 1\n",
    "    print(\"Accuracy score for model\", index, \" \", a)\n",
    "\n",
    "#Report the average accuracy for all models \n",
    "print(\"\\nAverage accuracy score for all models: \", statistics.mean(accuracy))\n",
    "print(\"Maximum accuracy score of all models: \", max(accuracy))\n",
    "print(\"Minimum accuracy score of all models: \", min(accuracy))"
   ]
  },
  {
   "cell_type": "markdown",
   "metadata": {},
   "source": [
    "_**Step 3.3:**_ Decision Tree - `DecisionTreeClassifier`"
   ]
  },
  {
   "cell_type": "code",
   "execution_count": 5,
   "metadata": {},
   "outputs": [
    {
     "name": "stdout",
     "output_type": "stream",
     "text": [
      "--------------------------------------------\n",
      "GroupKFold with Decision Tree Classification\n",
      "--------------------------------------------\n",
      "Training model  1\n",
      "Training model  2\n",
      "Training model  3\n",
      "Training model  4\n",
      "Training model  5\n",
      "Training model  6\n",
      "Training model  7\n",
      "Training model  8\n",
      "Training model  9\n",
      "Training model  10\n",
      "Finished training.\n",
      "\n",
      "Accuracy score for model 1   0.5697674418604651\n",
      "Accuracy score for model 2   0.5697674418604651\n",
      "Accuracy score for model 3   0.44871794871794873\n",
      "Accuracy score for model 4   0.5443037974683544\n",
      "Accuracy score for model 5   0.5333333333333333\n",
      "Accuracy score for model 6   0.5\n",
      "Accuracy score for model 7   0.5352112676056338\n",
      "Accuracy score for model 8   0.5507246376811594\n",
      "Accuracy score for model 9   0.5662650602409639\n",
      "Accuracy score for model 10   0.6162790697674418\n",
      "\n",
      "Average accuracy score for all models:  0.5434369998535765\n",
      "Maximum accuracy score of all models:  0.6162790697674418\n",
      "Minimum accuracy score of all models:  0.44871794871794873\n"
     ]
    }
   ],
   "source": [
    "from sklearn.tree import DecisionTreeClassifier\n",
    "import statistics\n",
    "print(\"--------------------------------------------\")\n",
    "print(\"GroupKFold with Decision Tree Classification\")\n",
    "print(\"--------------------------------------------\")\n",
    "\n",
    "dt = DecisionTreeClassifier()\n",
    "\n",
    "accuracy = []\n",
    "count = 0\n",
    "for train_index, test_index in logo.split(X,y,groups): \n",
    "    count += 1\n",
    "    X_train, X_test = X[train_index], X[test_index]\n",
    "    y_train, y_test = y[train_index], y[test_index]\n",
    "    print(\"Training model \",count)\n",
    "    dt.fit(X_train,y_train)\n",
    "    acc_score = dt.score(X_test, y_test)\n",
    "    accuracy.append(acc_score)\n",
    "\n",
    "print(\"Finished training.\\n\")\n",
    "\n",
    "#Mean accuracy of self.predict(X) with regard to y for each model\n",
    "index = 0\n",
    "for a in accuracy: \n",
    "    index += 1\n",
    "    print(\"Accuracy score for model\", index, \" \", a)\n",
    "\n",
    "#Report the average accuracy for all models \n",
    "print(\"\\nAverage accuracy score for all models: \", statistics.mean(accuracy))\n",
    "print(\"Maximum accuracy score of all models: \", max(accuracy))\n",
    "print(\"Minimum accuracy score of all models: \", min(accuracy))"
   ]
  },
  {
   "cell_type": "markdown",
   "metadata": {},
   "source": [
    "_**Step 3.4:**_ Random Forests - `RandomForestClassifier`"
   ]
  },
  {
   "cell_type": "code",
   "execution_count": 6,
   "metadata": {},
   "outputs": [
    {
     "name": "stdout",
     "output_type": "stream",
     "text": [
      "--------------------------------------------\n",
      "GroupKFold with Random Forest Classification\n",
      "--------------------------------------------\n",
      "Training model  1\n",
      "Training model  2\n",
      "Training model  3\n",
      "Training model  4\n",
      "Training model  5\n",
      "Training model  6\n",
      "Training model  7\n",
      "Training model  8\n",
      "Training model  9\n",
      "Training model  10\n",
      "Finished training.\n",
      "\n",
      "Accuracy score for model 1   0.5930232558139535\n",
      "Accuracy score for model 2   0.6046511627906976\n",
      "Accuracy score for model 3   0.3974358974358974\n",
      "Accuracy score for model 4   0.5189873417721519\n",
      "Accuracy score for model 5   0.4666666666666667\n",
      "Accuracy score for model 6   0.5416666666666666\n",
      "Accuracy score for model 7   0.5774647887323944\n",
      "Accuracy score for model 8   0.5217391304347826\n",
      "Accuracy score for model 9   0.5301204819277109\n",
      "Accuracy score for model 10   0.5116279069767442\n",
      "\n",
      "Average accuracy score for all models:  0.5263383299217665\n",
      "Maximum accuracy score of all models:  0.6046511627906976\n",
      "Minimum accuracy score of all models:  0.3974358974358974\n"
     ]
    }
   ],
   "source": [
    "from sklearn.ensemble import RandomForestClassifier\n",
    "import statistics\n",
    "print(\"--------------------------------------------\")\n",
    "print(\"GroupKFold with Random Forest Classification\")\n",
    "print(\"--------------------------------------------\")\n",
    "\n",
    "rf = RandomForestClassifier()\n",
    "\n",
    "accuracy = []\n",
    "count = 0\n",
    "for train_index, test_index in logo.split(X,y,groups): \n",
    "    count += 1\n",
    "    X_train, X_test = X[train_index], X[test_index]\n",
    "    y_train, y_test = y[train_index], y[test_index]\n",
    "    print(\"Training model \",count)\n",
    "    rf.fit(X_train,y_train)\n",
    "    acc_score = rf.score(X_test, y_test)\n",
    "    accuracy.append(acc_score)\n",
    "\n",
    "print(\"Finished training.\\n\")\n",
    "\n",
    "#Mean accuracy of self.predict(X) with regard to y for each model\n",
    "index = 0\n",
    "for a in accuracy: \n",
    "    index += 1\n",
    "    print(\"Accuracy score for model\", index, \" \", a)\n",
    "\n",
    "#Report the average accuracy for all models \n",
    "print(\"\\nAverage accuracy score for all models: \", statistics.mean(accuracy))\n",
    "print(\"Maximum accuracy score of all models: \", max(accuracy))\n",
    "print(\"Minimum accuracy score of all models: \", min(accuracy))"
   ]
  }
 ],
 "metadata": {
  "kernelspec": {
   "display_name": "Python 3",
   "language": "python",
   "name": "python3"
  },
  "language_info": {
   "codemirror_mode": {
    "name": "ipython",
    "version": 3
   },
   "file_extension": ".py",
   "mimetype": "text/x-python",
   "name": "python",
   "nbconvert_exporter": "python",
   "pygments_lexer": "ipython3",
   "version": "3.7.6"
  }
 },
 "nbformat": 4,
 "nbformat_minor": 4
}
